{
 "cells": [
  {
   "cell_type": "code",
   "execution_count": 79,
   "id": "51451f57-aadc-416b-be73-f4f8c6b602a7",
   "metadata": {},
   "outputs": [],
   "source": [
    "import numpy as np\n",
    "import pandas as pd\n",
    "import matplotlib.pyplot as plt\n",
    "\n",
    "import torch\n",
    "import torch.nn as nn\n",
    "import torchvision.transforms as T\n",
    "import torchvision.models as models\n",
    "from torch.utils.data import DataLoader, Dataset\n",
    "from torchvision.datasets import ImageFolder\n",
    "import torch.optim as optim\n",
    "from torchvision.utils import save_image\n",
    "import albumentations as A\n",
    "from PIL import Image\n",
    "from albumentations.pytorch.transforms import ToTensorV2\n",
    "from tqdm import tqdm\n",
    "import os"
   ]
  },
  {
   "cell_type": "code",
   "execution_count": 80,
   "id": "17951c09-657e-45d3-87a1-7c1e493cb6c4",
   "metadata": {},
   "outputs": [],
   "source": [
    "class Conv(nn.Module):\n",
    "    def __init__(self, in_channels, out_channels, is_disc = False, use_act = True, use_bn = True, **kwargs):\n",
    "        super(Conv, self).__init__()\n",
    "        self.use_act = use_act\n",
    "        self.conv = nn.Conv2d(in_channels, out_channels, **kwargs, bias = not use_bn)\n",
    "        self.bn = nn.BatchNorm2d(out_channels) if use_bn else nn.Identity()\n",
    "        self.act = (nn.LeakyReLU(0.2, inplace = True) if is_disc else nn.PReLU(num_parameters = out_channels))\n",
    "\n",
    "    def forward(self, x):\n",
    "        return self.act(self.bn(self.conv(x))) if self.use_act else self.bn(self.conv(x))"
   ]
  },
  {
   "cell_type": "code",
   "execution_count": 81,
   "id": "c62c237e-94e3-4ea4-94a1-03a6c732ba97",
   "metadata": {},
   "outputs": [],
   "source": [
    "class Upsample(nn.Module):\n",
    "    def __init__(self, in_channels, upscaling_factor = 2):\n",
    "        super(Upsample, self).__init__()\n",
    "        self.conv = nn.Conv2d(in_channels, in_channels * upscaling_factor ** 2, 3, 1, 1)\n",
    "        self.pixelshuffle = nn.PixelShuffle(upscaling_factor)\n",
    "        self.act = nn.PReLU(num_parameters = in_channels)\n",
    "\n",
    "    def forward(self, x):\n",
    "        return self.act(self.pixelshuffle(self.conv(x)))"
   ]
  },
  {
   "cell_type": "code",
   "execution_count": 82,
   "id": "5c703f35-4c73-43f5-bb5b-d8e941b890ff",
   "metadata": {},
   "outputs": [],
   "source": [
    "class ResidualBlock(nn.Module):\n",
    "    def __init__(self, in_channels):\n",
    "        super(ResidualBlock, self).__init__()\n",
    "        self.block1 = Conv(in_channels, in_channels, is_disc = False, use_act = True, use_bn = True, kernel_size = 3, stride = 1, padding = 1)\n",
    "        self.block2 = Conv(in_channels, in_channels, is_disc = False, use_act = False, use_bn = True, kernel_size = 3, stride = 1, padding = 1)\n",
    "\n",
    "    def forward(self, x):\n",
    "        return self.block2(self.block1(x)) + x\n",
    "        "
   ]
  },
  {
   "cell_type": "code",
   "execution_count": 83,
   "id": "5383d7e3-29db-4570-b041-64b3b09ac6d3",
   "metadata": {},
   "outputs": [],
   "source": [
    "class Generator(nn.Module):\n",
    "    def __init__(self, in_channels = 3, channels = 64, num_blocks = 16):\n",
    "        super(Generator, self).__init__()\n",
    "        self.start = Conv(in_channels, channels, is_disc = False, use_act = True, use_bn = False, kernel_size = 9, stride = 1, padding = 4)\n",
    "        self.residuals = nn.Sequential(*[ResidualBlock(channels) for _ in range(num_blocks)])\n",
    "        self.block = Conv(channels, channels, is_disc = False, use_act = False, use_bn = True, kernel_size = 3, stride = 1, padding = 1)\n",
    "        self.upsample = nn.Sequential(\n",
    "            Upsample(channels, 2),\n",
    "            Upsample(channels, 2),\n",
    "            nn.Conv2d(channels, in_channels, kernel_size = 9, stride = 1, padding = 4),\n",
    "            nn.Tanh()\n",
    "        )\n",
    "\n",
    "    def forward(self, x):\n",
    "        initial = self.start(x)\n",
    "        x = self.residuals(initial)\n",
    "        x = self.block(x) + initial\n",
    "        return self.upsample(x)\n",
    "            "
   ]
  },
  {
   "cell_type": "code",
   "execution_count": 84,
   "id": "98cc6627-15c1-4ab2-b008-1d5f4b220e61",
   "metadata": {},
   "outputs": [],
   "source": [
    "class Discriminator(nn.Module):\n",
    "    def __init__(self, in_channels = 3, channels = 64):\n",
    "        super(Discriminator, self).__init__()\n",
    "        self.block = nn.Sequential(\n",
    "            Conv(in_channels, channels, is_disc = True, use_act = True, use_bn = False, kernel_size = 3, stride = 1, padding = 1),\n",
    "            Conv(channels, channels, is_disc = True, use_act = True, use_bn = True, kernel_size = 3, stride = 2, padding = 1),\n",
    "            Conv(channels, channels * 2, is_disc = True, use_act = True, use_bn = True, kernel_size = 3, stride = 1, padding = 1),\n",
    "            Conv(channels * 2, channels * 2, is_disc = True, use_act = True, use_bn = True, kernel_size = 3, stride = 2, padding = 1),\n",
    "            Conv(channels * 2, channels * 4, is_disc = True, use_act = True, use_bn = True, kernel_size = 3, stride = 1, padding = 1),\n",
    "            Conv(channels * 4, channels * 4, is_disc = True, use_act = True, use_bn = True, kernel_size = 3, stride = 2, padding = 1),\n",
    "            Conv(channels * 4, channels * 8, is_disc = True, use_act = True, use_bn = True, kernel_size = 3, stride = 1, padding = 1),\n",
    "            Conv(channels * 8, channels * 8, is_disc = True, use_act = True, use_bn = True, kernel_size = 3, stride = 2, padding = 1),\n",
    "        )\n",
    "        self.linear = nn.Sequential(\n",
    "            nn.AdaptiveAvgPool2d((6, 6)),\n",
    "            nn.Flatten(),\n",
    "            nn.Linear(36 * channels * 8, channels * 16),\n",
    "            nn.LeakyReLU(0.2, inplace = True),\n",
    "            nn.Linear(channels * 16, 1)\n",
    "        )\n",
    "\n",
    "    def forward(self, x):\n",
    "        return self.linear(self.block(x))\n",
    "        "
   ]
  },
  {
   "cell_type": "code",
   "execution_count": 85,
   "id": "23bb1f95-10c2-4de9-94e9-4a6b96770aaf",
   "metadata": {},
   "outputs": [
    {
     "name": "stdout",
     "output_type": "stream",
     "text": [
      "torch.Size([3, 3, 200, 200])\n",
      "torch.Size([3, 1])\n"
     ]
    }
   ],
   "source": [
    "def test():\n",
    "    img = torch.randn((3, 3, 50, 50))\n",
    "    gen = Generator(3, 64, 16)\n",
    "    disc = Discriminator(3, 64)\n",
    "    gen_out = gen(img)\n",
    "    disc_out = disc(img)\n",
    "    print(gen_out.shape)\n",
    "    print(disc_out.shape)\n",
    "test()"
   ]
  },
  {
   "cell_type": "code",
   "execution_count": 86,
   "id": "16ab4392-f76c-44ae-b1e7-a1d58251051c",
   "metadata": {},
   "outputs": [
    {
     "data": {
      "text/plain": [
       "VGG(\n",
       "  (features): Sequential(\n",
       "    (0): Conv2d(3, 64, kernel_size=(3, 3), stride=(1, 1), padding=(1, 1))\n",
       "    (1): ReLU(inplace=True)\n",
       "    (2): Conv2d(64, 64, kernel_size=(3, 3), stride=(1, 1), padding=(1, 1))\n",
       "    (3): ReLU(inplace=True)\n",
       "    (4): MaxPool2d(kernel_size=2, stride=2, padding=0, dilation=1, ceil_mode=False)\n",
       "    (5): Conv2d(64, 128, kernel_size=(3, 3), stride=(1, 1), padding=(1, 1))\n",
       "    (6): ReLU(inplace=True)\n",
       "    (7): Conv2d(128, 128, kernel_size=(3, 3), stride=(1, 1), padding=(1, 1))\n",
       "    (8): ReLU(inplace=True)\n",
       "    (9): MaxPool2d(kernel_size=2, stride=2, padding=0, dilation=1, ceil_mode=False)\n",
       "    (10): Conv2d(128, 256, kernel_size=(3, 3), stride=(1, 1), padding=(1, 1))\n",
       "    (11): ReLU(inplace=True)\n",
       "    (12): Conv2d(256, 256, kernel_size=(3, 3), stride=(1, 1), padding=(1, 1))\n",
       "    (13): ReLU(inplace=True)\n",
       "    (14): Conv2d(256, 256, kernel_size=(3, 3), stride=(1, 1), padding=(1, 1))\n",
       "    (15): ReLU(inplace=True)\n",
       "    (16): Conv2d(256, 256, kernel_size=(3, 3), stride=(1, 1), padding=(1, 1))\n",
       "    (17): ReLU(inplace=True)\n",
       "    (18): MaxPool2d(kernel_size=2, stride=2, padding=0, dilation=1, ceil_mode=False)\n",
       "    (19): Conv2d(256, 512, kernel_size=(3, 3), stride=(1, 1), padding=(1, 1))\n",
       "    (20): ReLU(inplace=True)\n",
       "    (21): Conv2d(512, 512, kernel_size=(3, 3), stride=(1, 1), padding=(1, 1))\n",
       "    (22): ReLU(inplace=True)\n",
       "    (23): Conv2d(512, 512, kernel_size=(3, 3), stride=(1, 1), padding=(1, 1))\n",
       "    (24): ReLU(inplace=True)\n",
       "    (25): Conv2d(512, 512, kernel_size=(3, 3), stride=(1, 1), padding=(1, 1))\n",
       "    (26): ReLU(inplace=True)\n",
       "    (27): MaxPool2d(kernel_size=2, stride=2, padding=0, dilation=1, ceil_mode=False)\n",
       "    (28): Conv2d(512, 512, kernel_size=(3, 3), stride=(1, 1), padding=(1, 1))\n",
       "    (29): ReLU(inplace=True)\n",
       "    (30): Conv2d(512, 512, kernel_size=(3, 3), stride=(1, 1), padding=(1, 1))\n",
       "    (31): ReLU(inplace=True)\n",
       "    (32): Conv2d(512, 512, kernel_size=(3, 3), stride=(1, 1), padding=(1, 1))\n",
       "    (33): ReLU(inplace=True)\n",
       "    (34): Conv2d(512, 512, kernel_size=(3, 3), stride=(1, 1), padding=(1, 1))\n",
       "    (35): ReLU(inplace=True)\n",
       "    (36): MaxPool2d(kernel_size=2, stride=2, padding=0, dilation=1, ceil_mode=False)\n",
       "  )\n",
       "  (avgpool): AdaptiveAvgPool2d(output_size=(7, 7))\n",
       "  (classifier): Sequential(\n",
       "    (0): Linear(in_features=25088, out_features=4096, bias=True)\n",
       "    (1): ReLU(inplace=True)\n",
       "    (2): Dropout(p=0.5, inplace=False)\n",
       "    (3): Linear(in_features=4096, out_features=4096, bias=True)\n",
       "    (4): ReLU(inplace=True)\n",
       "    (5): Dropout(p=0.5, inplace=False)\n",
       "    (6): Linear(in_features=4096, out_features=1000, bias=True)\n",
       "  )\n",
       ")"
      ]
     },
     "execution_count": 86,
     "metadata": {},
     "output_type": "execute_result"
    }
   ],
   "source": [
    "vgg = models.vgg19(weights = models.VGG19_Weights.DEFAULT)\n",
    "vgg"
   ]
  },
  {
   "cell_type": "code",
   "execution_count": 87,
   "id": "907e2ad3-87fc-44e9-8d1e-36ef1fbca6de",
   "metadata": {},
   "outputs": [],
   "source": [
    "#phi 5, 4 = 4th conv after activation before 5th maxpool -> after 35"
   ]
  },
  {
   "cell_type": "code",
   "execution_count": 88,
   "id": "96de370e-2cd1-4200-885f-204986336722",
   "metadata": {},
   "outputs": [],
   "source": [
    "class VGGLoss(nn.Module):\n",
    "    def __init__(self):\n",
    "        super(VGGLoss, self).__init__()\n",
    "        self.MSELoss = nn.MSELoss()\n",
    "        self.vgg = models.vgg19(weights = models.VGG19_Weights.DEFAULT).features[: 36].eval().to('cuda' if torch.cuda.is_available() else 'cpu')\n",
    "\n",
    "        for param in vgg.parameters():\n",
    "            param.requires_grad = False \n",
    "\n",
    "    def forward(self, gen_img, real_img):\n",
    "        return self.MSELoss(self.vgg(gen_img), self.vgg(real_img))\n",
    "        \n",
    "        "
   ]
  },
  {
   "cell_type": "code",
   "execution_count": 89,
   "id": "b94b99c4-7821-4cc6-953a-8ed7139440c2",
   "metadata": {},
   "outputs": [],
   "source": [
    "device = 'cuda' if torch.cuda.is_available() else 'cpu'\n",
    "batch_size = 16\n",
    "epochs = 10000\n",
    "gen_lr = 1e-4\n",
    "disc_lr = 1e-4\n",
    "high_res = 96\n",
    "low_res = high_res // 4\n",
    "\n",
    "high_res_dir = r'D:\\Codes\\MLDS\\SRGAN\\DIV2K_train_HR\\DIV2K_train_HR'"
   ]
  },
  {
   "cell_type": "code",
   "execution_count": 90,
   "id": "345a239c-1751-4999-8b41-81537525d268",
   "metadata": {},
   "outputs": [],
   "source": [
    "low_res_transform = A.Compose([A.Resize(height = low_res, width = low_res, interpolation = 3),\n",
    "                               A.Normalize(mean = [0.5, 0.5, 0.5], std = [0.5, 0.5, 0.5]),\n",
    "                               A.pytorch.transforms.ToTensorV2()])\n",
    "\n",
    "high_res_transform = A.Compose([A.Normalize(mean = [0.5, 0.5, 0.5], std = [0.5, 0.5, 0.5]),\n",
    "                                A.pytorch.transforms.ToTensorV2()])\n",
    "\n",
    "augmentation = A.Compose([A.RandomCrop(height = high_res, width = high_res)\n",
    "                          ])\n",
    "\n",
    "test_transform = A.Compose([A.Normalize(mean = [0, 0, 0], std = [1, 1, 1]),\n",
    "                            A.pytorch.transforms.ToTensorV2()])"
   ]
  },
  {
   "cell_type": "code",
   "execution_count": 91,
   "id": "9e606de2-7043-45dc-ae49-3360297c81c2",
   "metadata": {},
   "outputs": [],
   "source": [
    "class Data(Dataset):\n",
    "    def __init__(self, high_res_dir, augmentation, low_res_transform, high_res_transform):\n",
    "        self.high_res_dir = high_res_dir\n",
    "        self.augmentation = augmentation\n",
    "        self.low_res_transform = low_res_transform\n",
    "        self.high_res_transform = high_res_transform\n",
    "        self.high_res_images = sorted(os.listdir(high_res_dir))\n",
    "\n",
    "    def __len__(self):\n",
    "        return len(self.high_res_images)\n",
    "\n",
    "    def __getitem__(self, idx):\n",
    "        high_res_image_path = os.path.join(self.high_res_dir, self.high_res_images[idx])\n",
    "        image = np.array(Image.open(high_res_image_path))\n",
    "        image = self.augmentation(image = image)['image']\n",
    "        low_res_img = self.low_res_transform(image = image)['image']\n",
    "        high_res_img = self.high_res_transform(image = image)['image']\n",
    "        return low_res_img, high_res_img\n",
    "        "
   ]
  },
  {
   "cell_type": "code",
   "execution_count": 92,
   "id": "68233ba1-8817-4cfc-8155-58b6cf384268",
   "metadata": {},
   "outputs": [
    {
     "name": "stdout",
     "output_type": "stream",
     "text": [
      "torch.Size([16, 3, 24, 24])\n",
      "torch.Size([16, 3, 96, 96])\n"
     ]
    }
   ],
   "source": [
    "def datatest():\n",
    "    dataset = Data(high_res_dir, augmentation, low_res_transform, high_res_transform)\n",
    "    dataloader = DataLoader(dataset, batch_size = batch_size)\n",
    "    for low_res, high_res in dataloader:\n",
    "        print(low_res.shape)\n",
    "        print(high_res.shape)\n",
    "        break\n",
    "datatest()"
   ]
  },
  {
   "cell_type": "code",
   "execution_count": 93,
   "id": "718d4b72-8b11-4840-bd8a-704781bf8276",
   "metadata": {},
   "outputs": [],
   "source": [
    "disc = Discriminator(3, 64).to(device)\n",
    "gen = Generator(3, 64, 16).to(device)\n",
    "\n",
    "dataset = Data(high_res_dir, augmentation, low_res_transform, high_res_transform)\n",
    "loader = DataLoader(dataset, batch_size = batch_size, shuffle = True)\n",
    "\n",
    "gen_optimizer = optim.Adam(gen.parameters(), lr = gen_lr)\n",
    "disc_optimizer = optim.Adam(disc.parameters(), lr = disc_lr)\n",
    "\n",
    "vggloss = VGGLoss()\n",
    "advloss = nn.BCEWithLogitsLoss()\n",
    "\n",
    "test_image_path = 'tiger.png'"
   ]
  },
  {
   "cell_type": "code",
   "execution_count": 94,
   "id": "7b82ec92-967a-412a-85e9-442329423a80",
   "metadata": {},
   "outputs": [],
   "source": [
    "def plot_examples(image_path, gen, test_transform):\n",
    "    gen.eval()\n",
    "    image = Image.open(image_path)\n",
    "    with torch.no_grad():\n",
    "        upscaled_img = gen(test_transform(image=np.asarray(image))[\"image\"].unsqueeze(0).to(device))\n",
    "    save_image(upscaled_img * 0.5 + 0.5, 'test.png')\n",
    "    gen.train()"
   ]
  },
  {
   "cell_type": "code",
   "execution_count": 95,
   "id": "8f3d073a-810f-48ad-b8e2-652c2e1ae9f6",
   "metadata": {},
   "outputs": [],
   "source": [
    "def show_images(image_path, gen, test_transform):\n",
    "    gen.eval()\n",
    "    image = Image.open(image_path)\n",
    "    with torch.no_grad():\n",
    "        upscaled_img = gen(test_transform(image = np.asarray(image))[\"image\"].unsqueeze(0).to(device))\n",
    "        upscaled_img = upscaled_img.squeeze(0).cpu()\n",
    "        upscaled_img = upscaled_img.permute(1, 2, 0).numpy()\n",
    "        upscaled_img = np.clip(upscaled_img, 0, 1)\n",
    "    gen.train()\n",
    "    fig, ax = plt.subplots(1, 2, figsize=(12, 6))\n",
    "    ax[0].imshow(image)\n",
    "    ax[0].set_title(\"Real Image\")\n",
    "    ax[0].axis('off')\n",
    "\n",
    "    ax[1].imshow(upscaled_img)\n",
    "    ax[1].set_title(\"Generated Image\")\n",
    "    ax[1].axis('off')\n",
    "    plt.show()"
   ]
  },
  {
   "cell_type": "code",
   "execution_count": 98,
   "id": "4523b64e-913a-4119-ae19-e9ce9b3b8b59",
   "metadata": {},
   "outputs": [],
   "source": [
    "def train(loader, gen, disc, gen_optimizer, disc_optimizer, vggloss, advloss, device):\n",
    "    for epoch in range(epochs):\n",
    "        for batch_idx, (low_res_img, high_res_img) in enumerate(tqdm(loader)):\n",
    "            low_res_img, high_res_img = low_res_img.to(device), high_res_img.to(device)\n",
    "            #disc training\n",
    "            fake = gen(low_res_img)\n",
    "            disc_real = disc(high_res_img)\n",
    "            disc_fake = disc(fake.detach())\n",
    "            disc_loss_real = advloss(disc_real, torch.ones_like(disc_real) - 0.1 * torch.rand_like(disc_real))\n",
    "\n",
    "            disc_loss_fake = advloss(disc_fake, torch.zeros_like(disc_fake))\n",
    "            disc_loss = disc_loss_fake + disc_loss_real\n",
    "\n",
    "            disc_optimizer.zero_grad()\n",
    "            disc_loss.backward()\n",
    "            disc_optimizer.step()\n",
    "\n",
    "        #train gen\n",
    "            disc_fake = disc(fake)\n",
    "            adv_loss = 1e-3 * advloss(disc_fake, torch.ones_like(disc_fake))\n",
    "            vgg_loss = 0.006 * vggloss(fake, high_res_img)\n",
    "            gen_loss = adv_loss + vgg_loss\n",
    "\n",
    "            gen_optimizer.zero_grad()\n",
    "            gen_loss.backward()\n",
    "            gen_optimizer.step()\n",
    "        print(f'Epoch: {epoch}')\n",
    "        print(f'genloss: {gen_loss} \\t discloss: {disc_loss}')\n",
    "        plot_examples(test_image_path, gen, test_transform)"
   ]
  },
  {
   "cell_type": "code",
   "execution_count": 99,
   "id": "c4e909c7-009c-449b-8ee5-e056760bb92c",
   "metadata": {},
   "outputs": [
    {
     "name": "stderr",
     "output_type": "stream",
     "text": [
      "100%|██████████████████████████████████████████████████████████████████████████████████| 50/50 [01:17<00:00,  1.55s/it]\n"
     ]
    },
    {
     "name": "stdout",
     "output_type": "stream",
     "text": [
      "Epoch: 0\n",
      "genloss: 0.005134848412126303 \t discloss: 0.6569467186927795\n"
     ]
    },
    {
     "name": "stderr",
     "output_type": "stream",
     "text": [
      "100%|██████████████████████████████████████████████████████████████████████████████████| 50/50 [01:16<00:00,  1.53s/it]\n"
     ]
    },
    {
     "name": "stdout",
     "output_type": "stream",
     "text": [
      "Epoch: 1\n",
      "genloss: 0.00627145217731595 \t discloss: 0.7243441343307495\n"
     ]
    },
    {
     "name": "stderr",
     "output_type": "stream",
     "text": [
      "100%|██████████████████████████████████████████████████████████████████████████████████| 50/50 [01:14<00:00,  1.49s/it]\n"
     ]
    },
    {
     "name": "stdout",
     "output_type": "stream",
     "text": [
      "Epoch: 2\n",
      "genloss: 0.006590890698134899 \t discloss: 0.6287218928337097\n"
     ]
    },
    {
     "name": "stderr",
     "output_type": "stream",
     "text": [
      "100%|██████████████████████████████████████████████████████████████████████████████████| 50/50 [01:14<00:00,  1.49s/it]\n"
     ]
    },
    {
     "name": "stdout",
     "output_type": "stream",
     "text": [
      "Epoch: 3\n",
      "genloss: 0.005853588692843914 \t discloss: 0.47087791562080383\n"
     ]
    },
    {
     "name": "stderr",
     "output_type": "stream",
     "text": [
      "100%|██████████████████████████████████████████████████████████████████████████████████| 50/50 [01:14<00:00,  1.49s/it]\n"
     ]
    },
    {
     "name": "stdout",
     "output_type": "stream",
     "text": [
      "Epoch: 4\n",
      "genloss: 0.004340095445513725 \t discloss: 0.6428513526916504\n"
     ]
    },
    {
     "name": "stderr",
     "output_type": "stream",
     "text": [
      "100%|██████████████████████████████████████████████████████████████████████████████████| 50/50 [01:13<00:00,  1.47s/it]\n"
     ]
    },
    {
     "name": "stdout",
     "output_type": "stream",
     "text": [
      "Epoch: 5\n",
      "genloss: 0.0058867549523711205 \t discloss: 0.9048163890838623\n"
     ]
    },
    {
     "name": "stderr",
     "output_type": "stream",
     "text": [
      "100%|██████████████████████████████████████████████████████████████████████████████████| 50/50 [01:13<00:00,  1.47s/it]\n"
     ]
    },
    {
     "name": "stdout",
     "output_type": "stream",
     "text": [
      "Epoch: 6\n",
      "genloss: 0.005174276884645224 \t discloss: 1.0305900573730469\n"
     ]
    },
    {
     "name": "stderr",
     "output_type": "stream",
     "text": [
      " 14%|███████████▌                                                                       | 7/50 [00:11<01:10,  1.65s/it]\n"
     ]
    },
    {
     "ename": "KeyboardInterrupt",
     "evalue": "",
     "output_type": "error",
     "traceback": [
      "\u001b[1;31m---------------------------------------------------------------------------\u001b[0m",
      "\u001b[1;31mKeyboardInterrupt\u001b[0m                         Traceback (most recent call last)",
      "Cell \u001b[1;32mIn[99], line 1\u001b[0m\n\u001b[1;32m----> 1\u001b[0m \u001b[43mtrain\u001b[49m\u001b[43m(\u001b[49m\u001b[43mloader\u001b[49m\u001b[43m,\u001b[49m\u001b[43m \u001b[49m\u001b[43mgen\u001b[49m\u001b[43m,\u001b[49m\u001b[43m \u001b[49m\u001b[43mdisc\u001b[49m\u001b[43m,\u001b[49m\u001b[43m \u001b[49m\u001b[43mgen_optimizer\u001b[49m\u001b[43m,\u001b[49m\u001b[43m \u001b[49m\u001b[43mdisc_optimizer\u001b[49m\u001b[43m,\u001b[49m\u001b[43m \u001b[49m\u001b[43mvggloss\u001b[49m\u001b[43m,\u001b[49m\u001b[43m \u001b[49m\u001b[43madvloss\u001b[49m\u001b[43m,\u001b[49m\u001b[43m \u001b[49m\u001b[43mdevice\u001b[49m\u001b[43m)\u001b[49m\n",
      "Cell \u001b[1;32mIn[98], line 3\u001b[0m, in \u001b[0;36mtrain\u001b[1;34m(loader, gen, disc, gen_optimizer, disc_optimizer, vggloss, advloss, device)\u001b[0m\n\u001b[0;32m      1\u001b[0m \u001b[38;5;28;01mdef\u001b[39;00m \u001b[38;5;21mtrain\u001b[39m(loader, gen, disc, gen_optimizer, disc_optimizer, vggloss, advloss, device):\n\u001b[0;32m      2\u001b[0m     \u001b[38;5;28;01mfor\u001b[39;00m epoch \u001b[38;5;129;01min\u001b[39;00m \u001b[38;5;28mrange\u001b[39m(epochs):\n\u001b[1;32m----> 3\u001b[0m \u001b[43m        \u001b[49m\u001b[38;5;28;43;01mfor\u001b[39;49;00m\u001b[43m \u001b[49m\u001b[43mbatch_idx\u001b[49m\u001b[43m,\u001b[49m\u001b[43m \u001b[49m\u001b[43m(\u001b[49m\u001b[43mlow_res_img\u001b[49m\u001b[43m,\u001b[49m\u001b[43m \u001b[49m\u001b[43mhigh_res_img\u001b[49m\u001b[43m)\u001b[49m\u001b[43m \u001b[49m\u001b[38;5;129;43;01min\u001b[39;49;00m\u001b[43m \u001b[49m\u001b[38;5;28;43menumerate\u001b[39;49m\u001b[43m(\u001b[49m\u001b[43mtqdm\u001b[49m\u001b[43m(\u001b[49m\u001b[43mloader\u001b[49m\u001b[43m)\u001b[49m\u001b[43m)\u001b[49m\u001b[43m:\u001b[49m\n\u001b[0;32m      4\u001b[0m \u001b[43m            \u001b[49m\u001b[43mlow_res_img\u001b[49m\u001b[43m,\u001b[49m\u001b[43m \u001b[49m\u001b[43mhigh_res_img\u001b[49m\u001b[43m \u001b[49m\u001b[38;5;241;43m=\u001b[39;49m\u001b[43m \u001b[49m\u001b[43mlow_res_img\u001b[49m\u001b[38;5;241;43m.\u001b[39;49m\u001b[43mto\u001b[49m\u001b[43m(\u001b[49m\u001b[43mdevice\u001b[49m\u001b[43m)\u001b[49m\u001b[43m,\u001b[49m\u001b[43m \u001b[49m\u001b[43mhigh_res_img\u001b[49m\u001b[38;5;241;43m.\u001b[39;49m\u001b[43mto\u001b[49m\u001b[43m(\u001b[49m\u001b[43mdevice\u001b[49m\u001b[43m)\u001b[49m\n\u001b[0;32m      5\u001b[0m \u001b[43m            \u001b[49m\u001b[38;5;66;43;03m#disc training\u001b[39;49;00m\n",
      "File \u001b[1;32m~\\AppData\\Local\\Programs\\Python\\Python311\\Lib\\site-packages\\tqdm\\std.py:1181\u001b[0m, in \u001b[0;36mtqdm.__iter__\u001b[1;34m(self)\u001b[0m\n\u001b[0;32m   1178\u001b[0m time \u001b[38;5;241m=\u001b[39m \u001b[38;5;28mself\u001b[39m\u001b[38;5;241m.\u001b[39m_time\n\u001b[0;32m   1180\u001b[0m \u001b[38;5;28;01mtry\u001b[39;00m:\n\u001b[1;32m-> 1181\u001b[0m \u001b[43m    \u001b[49m\u001b[38;5;28;43;01mfor\u001b[39;49;00m\u001b[43m \u001b[49m\u001b[43mobj\u001b[49m\u001b[43m \u001b[49m\u001b[38;5;129;43;01min\u001b[39;49;00m\u001b[43m \u001b[49m\u001b[43miterable\u001b[49m\u001b[43m:\u001b[49m\n\u001b[0;32m   1182\u001b[0m \u001b[43m        \u001b[49m\u001b[38;5;28;43;01myield\u001b[39;49;00m\u001b[43m \u001b[49m\u001b[43mobj\u001b[49m\n\u001b[0;32m   1183\u001b[0m \u001b[43m        \u001b[49m\u001b[38;5;66;43;03m# Update and possibly print the progressbar.\u001b[39;49;00m\n\u001b[0;32m   1184\u001b[0m \u001b[43m        \u001b[49m\u001b[38;5;66;43;03m# Note: does not call self.update(1) for speed optimisation.\u001b[39;49;00m\n",
      "File \u001b[1;32m~\\AppData\\Local\\Programs\\Python\\Python311\\Lib\\site-packages\\torch\\utils\\data\\dataloader.py:631\u001b[0m, in \u001b[0;36m_BaseDataLoaderIter.__next__\u001b[1;34m(self)\u001b[0m\n\u001b[0;32m    628\u001b[0m \u001b[38;5;28;01mif\u001b[39;00m \u001b[38;5;28mself\u001b[39m\u001b[38;5;241m.\u001b[39m_sampler_iter \u001b[38;5;129;01mis\u001b[39;00m \u001b[38;5;28;01mNone\u001b[39;00m:\n\u001b[0;32m    629\u001b[0m     \u001b[38;5;66;03m# TODO(https://github.com/pytorch/pytorch/issues/76750)\u001b[39;00m\n\u001b[0;32m    630\u001b[0m     \u001b[38;5;28mself\u001b[39m\u001b[38;5;241m.\u001b[39m_reset()  \u001b[38;5;66;03m# type: ignore[call-arg]\u001b[39;00m\n\u001b[1;32m--> 631\u001b[0m data \u001b[38;5;241m=\u001b[39m \u001b[38;5;28;43mself\u001b[39;49m\u001b[38;5;241;43m.\u001b[39;49m\u001b[43m_next_data\u001b[49m\u001b[43m(\u001b[49m\u001b[43m)\u001b[49m\n\u001b[0;32m    632\u001b[0m \u001b[38;5;28mself\u001b[39m\u001b[38;5;241m.\u001b[39m_num_yielded \u001b[38;5;241m+\u001b[39m\u001b[38;5;241m=\u001b[39m \u001b[38;5;241m1\u001b[39m\n\u001b[0;32m    633\u001b[0m \u001b[38;5;28;01mif\u001b[39;00m \u001b[38;5;28mself\u001b[39m\u001b[38;5;241m.\u001b[39m_dataset_kind \u001b[38;5;241m==\u001b[39m _DatasetKind\u001b[38;5;241m.\u001b[39mIterable \u001b[38;5;129;01mand\u001b[39;00m \\\n\u001b[0;32m    634\u001b[0m         \u001b[38;5;28mself\u001b[39m\u001b[38;5;241m.\u001b[39m_IterableDataset_len_called \u001b[38;5;129;01mis\u001b[39;00m \u001b[38;5;129;01mnot\u001b[39;00m \u001b[38;5;28;01mNone\u001b[39;00m \u001b[38;5;129;01mand\u001b[39;00m \\\n\u001b[0;32m    635\u001b[0m         \u001b[38;5;28mself\u001b[39m\u001b[38;5;241m.\u001b[39m_num_yielded \u001b[38;5;241m>\u001b[39m \u001b[38;5;28mself\u001b[39m\u001b[38;5;241m.\u001b[39m_IterableDataset_len_called:\n",
      "File \u001b[1;32m~\\AppData\\Local\\Programs\\Python\\Python311\\Lib\\site-packages\\torch\\utils\\data\\dataloader.py:675\u001b[0m, in \u001b[0;36m_SingleProcessDataLoaderIter._next_data\u001b[1;34m(self)\u001b[0m\n\u001b[0;32m    673\u001b[0m \u001b[38;5;28;01mdef\u001b[39;00m \u001b[38;5;21m_next_data\u001b[39m(\u001b[38;5;28mself\u001b[39m):\n\u001b[0;32m    674\u001b[0m     index \u001b[38;5;241m=\u001b[39m \u001b[38;5;28mself\u001b[39m\u001b[38;5;241m.\u001b[39m_next_index()  \u001b[38;5;66;03m# may raise StopIteration\u001b[39;00m\n\u001b[1;32m--> 675\u001b[0m     data \u001b[38;5;241m=\u001b[39m \u001b[38;5;28;43mself\u001b[39;49m\u001b[38;5;241;43m.\u001b[39;49m\u001b[43m_dataset_fetcher\u001b[49m\u001b[38;5;241;43m.\u001b[39;49m\u001b[43mfetch\u001b[49m\u001b[43m(\u001b[49m\u001b[43mindex\u001b[49m\u001b[43m)\u001b[49m  \u001b[38;5;66;03m# may raise StopIteration\u001b[39;00m\n\u001b[0;32m    676\u001b[0m     \u001b[38;5;28;01mif\u001b[39;00m \u001b[38;5;28mself\u001b[39m\u001b[38;5;241m.\u001b[39m_pin_memory:\n\u001b[0;32m    677\u001b[0m         data \u001b[38;5;241m=\u001b[39m _utils\u001b[38;5;241m.\u001b[39mpin_memory\u001b[38;5;241m.\u001b[39mpin_memory(data, \u001b[38;5;28mself\u001b[39m\u001b[38;5;241m.\u001b[39m_pin_memory_device)\n",
      "File \u001b[1;32m~\\AppData\\Local\\Programs\\Python\\Python311\\Lib\\site-packages\\torch\\utils\\data\\_utils\\fetch.py:51\u001b[0m, in \u001b[0;36m_MapDatasetFetcher.fetch\u001b[1;34m(self, possibly_batched_index)\u001b[0m\n\u001b[0;32m     49\u001b[0m         data \u001b[38;5;241m=\u001b[39m \u001b[38;5;28mself\u001b[39m\u001b[38;5;241m.\u001b[39mdataset\u001b[38;5;241m.\u001b[39m__getitems__(possibly_batched_index)\n\u001b[0;32m     50\u001b[0m     \u001b[38;5;28;01melse\u001b[39;00m:\n\u001b[1;32m---> 51\u001b[0m         data \u001b[38;5;241m=\u001b[39m \u001b[43m[\u001b[49m\u001b[38;5;28;43mself\u001b[39;49m\u001b[38;5;241;43m.\u001b[39;49m\u001b[43mdataset\u001b[49m\u001b[43m[\u001b[49m\u001b[43midx\u001b[49m\u001b[43m]\u001b[49m\u001b[43m \u001b[49m\u001b[38;5;28;43;01mfor\u001b[39;49;00m\u001b[43m \u001b[49m\u001b[43midx\u001b[49m\u001b[43m \u001b[49m\u001b[38;5;129;43;01min\u001b[39;49;00m\u001b[43m \u001b[49m\u001b[43mpossibly_batched_index\u001b[49m\u001b[43m]\u001b[49m\n\u001b[0;32m     52\u001b[0m \u001b[38;5;28;01melse\u001b[39;00m:\n\u001b[0;32m     53\u001b[0m     data \u001b[38;5;241m=\u001b[39m \u001b[38;5;28mself\u001b[39m\u001b[38;5;241m.\u001b[39mdataset[possibly_batched_index]\n",
      "File \u001b[1;32m~\\AppData\\Local\\Programs\\Python\\Python311\\Lib\\site-packages\\torch\\utils\\data\\_utils\\fetch.py:51\u001b[0m, in \u001b[0;36m<listcomp>\u001b[1;34m(.0)\u001b[0m\n\u001b[0;32m     49\u001b[0m         data \u001b[38;5;241m=\u001b[39m \u001b[38;5;28mself\u001b[39m\u001b[38;5;241m.\u001b[39mdataset\u001b[38;5;241m.\u001b[39m__getitems__(possibly_batched_index)\n\u001b[0;32m     50\u001b[0m     \u001b[38;5;28;01melse\u001b[39;00m:\n\u001b[1;32m---> 51\u001b[0m         data \u001b[38;5;241m=\u001b[39m [\u001b[38;5;28;43mself\u001b[39;49m\u001b[38;5;241;43m.\u001b[39;49m\u001b[43mdataset\u001b[49m\u001b[43m[\u001b[49m\u001b[43midx\u001b[49m\u001b[43m]\u001b[49m \u001b[38;5;28;01mfor\u001b[39;00m idx \u001b[38;5;129;01min\u001b[39;00m possibly_batched_index]\n\u001b[0;32m     52\u001b[0m \u001b[38;5;28;01melse\u001b[39;00m:\n\u001b[0;32m     53\u001b[0m     data \u001b[38;5;241m=\u001b[39m \u001b[38;5;28mself\u001b[39m\u001b[38;5;241m.\u001b[39mdataset[possibly_batched_index]\n",
      "Cell \u001b[1;32mIn[91], line 14\u001b[0m, in \u001b[0;36mData.__getitem__\u001b[1;34m(self, idx)\u001b[0m\n\u001b[0;32m     12\u001b[0m \u001b[38;5;28;01mdef\u001b[39;00m \u001b[38;5;21m__getitem__\u001b[39m(\u001b[38;5;28mself\u001b[39m, idx):\n\u001b[0;32m     13\u001b[0m     high_res_image_path \u001b[38;5;241m=\u001b[39m os\u001b[38;5;241m.\u001b[39mpath\u001b[38;5;241m.\u001b[39mjoin(\u001b[38;5;28mself\u001b[39m\u001b[38;5;241m.\u001b[39mhigh_res_dir, \u001b[38;5;28mself\u001b[39m\u001b[38;5;241m.\u001b[39mhigh_res_images[idx])\n\u001b[1;32m---> 14\u001b[0m     image \u001b[38;5;241m=\u001b[39m np\u001b[38;5;241m.\u001b[39marray(Image\u001b[38;5;241m.\u001b[39mopen(high_res_image_path))\n\u001b[0;32m     15\u001b[0m     image \u001b[38;5;241m=\u001b[39m \u001b[38;5;28mself\u001b[39m\u001b[38;5;241m.\u001b[39maugmentation(image \u001b[38;5;241m=\u001b[39m image)[\u001b[38;5;124m'\u001b[39m\u001b[38;5;124mimage\u001b[39m\u001b[38;5;124m'\u001b[39m]\n\u001b[0;32m     16\u001b[0m     low_res_img \u001b[38;5;241m=\u001b[39m \u001b[38;5;28mself\u001b[39m\u001b[38;5;241m.\u001b[39mlow_res_transform(image \u001b[38;5;241m=\u001b[39m image)[\u001b[38;5;124m'\u001b[39m\u001b[38;5;124mimage\u001b[39m\u001b[38;5;124m'\u001b[39m]\n",
      "File \u001b[1;32m~\\AppData\\Local\\Programs\\Python\\Python311\\Lib\\site-packages\\PIL\\Image.py:678\u001b[0m, in \u001b[0;36mImage.__array_interface__\u001b[1;34m(self)\u001b[0m\n\u001b[0;32m    676\u001b[0m         new[\u001b[38;5;124m\"\u001b[39m\u001b[38;5;124mdata\u001b[39m\u001b[38;5;124m\"\u001b[39m] \u001b[38;5;241m=\u001b[39m \u001b[38;5;28mself\u001b[39m\u001b[38;5;241m.\u001b[39mtobytes(\u001b[38;5;124m\"\u001b[39m\u001b[38;5;124mraw\u001b[39m\u001b[38;5;124m\"\u001b[39m, \u001b[38;5;124m\"\u001b[39m\u001b[38;5;124mL\u001b[39m\u001b[38;5;124m\"\u001b[39m)\n\u001b[0;32m    677\u001b[0m     \u001b[38;5;28;01melse\u001b[39;00m:\n\u001b[1;32m--> 678\u001b[0m         new[\u001b[38;5;124m\"\u001b[39m\u001b[38;5;124mdata\u001b[39m\u001b[38;5;124m\"\u001b[39m] \u001b[38;5;241m=\u001b[39m \u001b[38;5;28;43mself\u001b[39;49m\u001b[38;5;241;43m.\u001b[39;49m\u001b[43mtobytes\u001b[49m\u001b[43m(\u001b[49m\u001b[43m)\u001b[49m\n\u001b[0;32m    679\u001b[0m \u001b[38;5;28;01mexcept\u001b[39;00m \u001b[38;5;167;01mException\u001b[39;00m \u001b[38;5;28;01mas\u001b[39;00m e:\n\u001b[0;32m    680\u001b[0m     \u001b[38;5;28;01mif\u001b[39;00m \u001b[38;5;129;01mnot\u001b[39;00m \u001b[38;5;28misinstance\u001b[39m(e, (\u001b[38;5;167;01mMemoryError\u001b[39;00m, \u001b[38;5;167;01mRecursionError\u001b[39;00m)):\n",
      "File \u001b[1;32m~\\AppData\\Local\\Programs\\Python\\Python311\\Lib\\site-packages\\PIL\\Image.py:737\u001b[0m, in \u001b[0;36mImage.tobytes\u001b[1;34m(self, encoder_name, *args)\u001b[0m\n\u001b[0;32m    734\u001b[0m \u001b[38;5;28;01mif\u001b[39;00m encoder_name \u001b[38;5;241m==\u001b[39m \u001b[38;5;124m\"\u001b[39m\u001b[38;5;124mraw\u001b[39m\u001b[38;5;124m\"\u001b[39m \u001b[38;5;129;01mand\u001b[39;00m args \u001b[38;5;241m==\u001b[39m ():\n\u001b[0;32m    735\u001b[0m     args \u001b[38;5;241m=\u001b[39m \u001b[38;5;28mself\u001b[39m\u001b[38;5;241m.\u001b[39mmode\n\u001b[1;32m--> 737\u001b[0m \u001b[38;5;28;43mself\u001b[39;49m\u001b[38;5;241;43m.\u001b[39;49m\u001b[43mload\u001b[49m\u001b[43m(\u001b[49m\u001b[43m)\u001b[49m\n\u001b[0;32m    739\u001b[0m \u001b[38;5;28;01mif\u001b[39;00m \u001b[38;5;28mself\u001b[39m\u001b[38;5;241m.\u001b[39mwidth \u001b[38;5;241m==\u001b[39m \u001b[38;5;241m0\u001b[39m \u001b[38;5;129;01mor\u001b[39;00m \u001b[38;5;28mself\u001b[39m\u001b[38;5;241m.\u001b[39mheight \u001b[38;5;241m==\u001b[39m \u001b[38;5;241m0\u001b[39m:\n\u001b[0;32m    740\u001b[0m     \u001b[38;5;28;01mreturn\u001b[39;00m \u001b[38;5;124mb\u001b[39m\u001b[38;5;124m\"\u001b[39m\u001b[38;5;124m\"\u001b[39m\n",
      "File \u001b[1;32m~\\AppData\\Local\\Programs\\Python\\Python311\\Lib\\site-packages\\PIL\\ImageFile.py:269\u001b[0m, in \u001b[0;36mImageFile.load\u001b[1;34m(self)\u001b[0m\n\u001b[0;32m    266\u001b[0m         \u001b[38;5;28;01mraise\u001b[39;00m \u001b[38;5;167;01mOSError\u001b[39;00m(msg)\n\u001b[0;32m    268\u001b[0m b \u001b[38;5;241m=\u001b[39m b \u001b[38;5;241m+\u001b[39m s\n\u001b[1;32m--> 269\u001b[0m n, err_code \u001b[38;5;241m=\u001b[39m \u001b[43mdecoder\u001b[49m\u001b[38;5;241;43m.\u001b[39;49m\u001b[43mdecode\u001b[49m\u001b[43m(\u001b[49m\u001b[43mb\u001b[49m\u001b[43m)\u001b[49m\n\u001b[0;32m    270\u001b[0m \u001b[38;5;28;01mif\u001b[39;00m n \u001b[38;5;241m<\u001b[39m \u001b[38;5;241m0\u001b[39m:\n\u001b[0;32m    271\u001b[0m     \u001b[38;5;28;01mbreak\u001b[39;00m\n",
      "\u001b[1;31mKeyboardInterrupt\u001b[0m: "
     ]
    }
   ],
   "source": [
    "train(loader, gen, disc, gen_optimizer, disc_optimizer, vggloss, advloss, device)"
   ]
  },
  {
   "cell_type": "code",
   "execution_count": null,
   "id": "b5d3f650-549f-46a0-a652-a987c6e08225",
   "metadata": {},
   "outputs": [],
   "source": []
  },
  {
   "cell_type": "code",
   "execution_count": null,
   "id": "a338d282-d7ea-4de2-a059-3b3e875cc21d",
   "metadata": {},
   "outputs": [],
   "source": []
  },
  {
   "cell_type": "code",
   "execution_count": null,
   "id": "249abf52-54f8-461c-a6c3-7bbef4eeac40",
   "metadata": {},
   "outputs": [],
   "source": []
  }
 ],
 "metadata": {
  "kernelspec": {
   "display_name": "Python 3 (ipykernel)",
   "language": "python",
   "name": "python3"
  },
  "language_info": {
   "codemirror_mode": {
    "name": "ipython",
    "version": 3
   },
   "file_extension": ".py",
   "mimetype": "text/x-python",
   "name": "python",
   "nbconvert_exporter": "python",
   "pygments_lexer": "ipython3",
   "version": "3.11.8"
  }
 },
 "nbformat": 4,
 "nbformat_minor": 5
}
