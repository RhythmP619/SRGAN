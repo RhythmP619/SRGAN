{
 "cells": [
  {
   "cell_type": "code",
   "execution_count": 20,
   "id": "51451f57-aadc-416b-be73-f4f8c6b602a7",
   "metadata": {},
   "outputs": [],
   "source": [
    "import numpy as np\n",
    "import pandas as pd\n",
    "import matplotlib.pyplot as plt\n",
    "\n",
    "import torch\n",
    "import torch.nn as nn\n",
    "import torchvision.transforms as T\n",
    "import torchvision.models as models\n",
    "from torch.utils.data import DataLoader, Dataset\n",
    "from torchvision.datasets import ImageFolder\n",
    "import torch.optim as optim\n",
    "from torchvision.utils import save_image\n",
    "import albumentations as A\n",
    "from PIL import Image\n",
    "import cv2\n",
    "from albumentations.pytorch.transforms import ToTensorV2\n",
    "from tqdm import tqdm\n",
    "import os"
   ]
  },
  {
   "cell_type": "code",
   "execution_count": 2,
   "id": "17951c09-657e-45d3-87a1-7c1e493cb6c4",
   "metadata": {},
   "outputs": [],
   "source": [
    "class Conv(nn.Module):\n",
    "    def __init__(self, in_channels, out_channels, is_disc = False, use_act = True, use_bn = True, **kwargs):\n",
    "        super(Conv, self).__init__()\n",
    "        self.use_act = use_act\n",
    "        self.conv = nn.Conv2d(in_channels, out_channels, **kwargs, bias = not use_bn)\n",
    "        self.bn = nn.BatchNorm2d(out_channels) if use_bn else nn.Identity()\n",
    "        self.act = (nn.LeakyReLU(0.2, inplace = True) if is_disc else nn.PReLU(num_parameters = out_channels))\n",
    "\n",
    "    def forward(self, x):\n",
    "        return self.act(self.bn(self.conv(x))) if self.use_act else self.bn(self.conv(x))"
   ]
  },
  {
   "cell_type": "code",
   "execution_count": 3,
   "id": "c62c237e-94e3-4ea4-94a1-03a6c732ba97",
   "metadata": {},
   "outputs": [],
   "source": [
    "class Upsample(nn.Module):\n",
    "    def __init__(self, in_channels, upscaling_factor = 2):\n",
    "        super(Upsample, self).__init__()\n",
    "        self.conv = nn.Conv2d(in_channels, in_channels * upscaling_factor ** 2, 3, 1, 1)\n",
    "        self.pixelshuffle = nn.PixelShuffle(upscaling_factor)\n",
    "        self.act = nn.PReLU(num_parameters = in_channels)\n",
    "\n",
    "    def forward(self, x):\n",
    "        return self.act(self.pixelshuffle(self.conv(x)))"
   ]
  },
  {
   "cell_type": "code",
   "execution_count": 4,
   "id": "5c703f35-4c73-43f5-bb5b-d8e941b890ff",
   "metadata": {},
   "outputs": [],
   "source": [
    "class ResidualBlock(nn.Module):\n",
    "    def __init__(self, in_channels):\n",
    "        super(ResidualBlock, self).__init__()\n",
    "        self.block1 = Conv(in_channels, in_channels, is_disc = False, use_act = True, use_bn = True, kernel_size = 3, stride = 1, padding = 1)\n",
    "        self.block2 = Conv(in_channels, in_channels, is_disc = False, use_act = False, use_bn = True, kernel_size = 3, stride = 1, padding = 1)\n",
    "\n",
    "    def forward(self, x):\n",
    "        return self.block2(self.block1(x)) + x\n",
    "        "
   ]
  },
  {
   "cell_type": "code",
   "execution_count": 5,
   "id": "5383d7e3-29db-4570-b041-64b3b09ac6d3",
   "metadata": {},
   "outputs": [],
   "source": [
    "class Generator(nn.Module):\n",
    "    def __init__(self, in_channels = 3, channels = 64, num_blocks = 16):\n",
    "        super(Generator, self).__init__()\n",
    "        self.start = Conv(in_channels, channels, is_disc = False, use_act = True, use_bn = False, kernel_size = 9, stride = 1, padding = 4)\n",
    "        self.residuals = nn.Sequential(*[ResidualBlock(channels) for _ in range(num_blocks)])\n",
    "        self.block = Conv(channels, channels, is_disc = False, use_act = False, use_bn = True, kernel_size = 3, stride = 1, padding = 1)\n",
    "        self.upsample = nn.Sequential(\n",
    "            Upsample(channels, 2),\n",
    "            Upsample(channels, 2),\n",
    "            nn.Conv2d(channels, in_channels, kernel_size = 9, stride = 1, padding = 4),\n",
    "            nn.Tanh()\n",
    "        )\n",
    "\n",
    "    def forward(self, x):\n",
    "        initial = self.start(x)\n",
    "        x = self.residuals(initial)\n",
    "        x = self.block(x) + initial\n",
    "        return self.upsample(x)\n",
    "            "
   ]
  },
  {
   "cell_type": "code",
   "execution_count": 6,
   "id": "98cc6627-15c1-4ab2-b008-1d5f4b220e61",
   "metadata": {},
   "outputs": [],
   "source": [
    "class Discriminator(nn.Module):\n",
    "    def __init__(self, in_channels = 3, channels = 64):\n",
    "        super(Discriminator, self).__init__()\n",
    "        self.block = nn.Sequential(\n",
    "            Conv(in_channels, channels, is_disc = True, use_act = True, use_bn = False, kernel_size = 3, stride = 1, padding = 1),\n",
    "            Conv(channels, channels, is_disc = True, use_act = True, use_bn = True, kernel_size = 3, stride = 2, padding = 1),\n",
    "            Conv(channels, channels * 2, is_disc = True, use_act = True, use_bn = True, kernel_size = 3, stride = 1, padding = 1),\n",
    "            Conv(channels * 2, channels * 2, is_disc = True, use_act = True, use_bn = True, kernel_size = 3, stride = 2, padding = 1),\n",
    "            Conv(channels * 2, channels * 4, is_disc = True, use_act = True, use_bn = True, kernel_size = 3, stride = 1, padding = 1),\n",
    "            Conv(channels * 4, channels * 4, is_disc = True, use_act = True, use_bn = True, kernel_size = 3, stride = 2, padding = 1),\n",
    "            Conv(channels * 4, channels * 8, is_disc = True, use_act = True, use_bn = True, kernel_size = 3, stride = 1, padding = 1),\n",
    "            Conv(channels * 8, channels * 8, is_disc = True, use_act = True, use_bn = True, kernel_size = 3, stride = 2, padding = 1),\n",
    "        )\n",
    "        self.linear = nn.Sequential(\n",
    "            nn.AdaptiveAvgPool2d((6, 6)),\n",
    "            nn.Flatten(),\n",
    "            nn.Linear(36 * channels * 8, channels * 16),\n",
    "            nn.LeakyReLU(0.2, inplace = True),\n",
    "            nn.Linear(channels * 16, 1)\n",
    "        )\n",
    "\n",
    "    def forward(self, x):\n",
    "        return self.linear(self.block(x))\n",
    "        "
   ]
  },
  {
   "cell_type": "code",
   "execution_count": 7,
   "id": "23bb1f95-10c2-4de9-94e9-4a6b96770aaf",
   "metadata": {},
   "outputs": [
    {
     "name": "stdout",
     "output_type": "stream",
     "text": [
      "torch.Size([3, 3, 200, 200])\n",
      "torch.Size([3, 1])\n"
     ]
    }
   ],
   "source": [
    "def test():\n",
    "    img = torch.randn((3, 3, 50, 50))\n",
    "    gen = Generator(3, 64, 16)\n",
    "    disc = Discriminator(3, 64)\n",
    "    gen_out = gen(img)\n",
    "    disc_out = disc(img)\n",
    "    print(gen_out.shape)\n",
    "    print(disc_out.shape)\n",
    "test()"
   ]
  },
  {
   "cell_type": "code",
   "execution_count": 8,
   "id": "16ab4392-f76c-44ae-b1e7-a1d58251051c",
   "metadata": {},
   "outputs": [
    {
     "data": {
      "text/plain": [
       "VGG(\n",
       "  (features): Sequential(\n",
       "    (0): Conv2d(3, 64, kernel_size=(3, 3), stride=(1, 1), padding=(1, 1))\n",
       "    (1): ReLU(inplace=True)\n",
       "    (2): Conv2d(64, 64, kernel_size=(3, 3), stride=(1, 1), padding=(1, 1))\n",
       "    (3): ReLU(inplace=True)\n",
       "    (4): MaxPool2d(kernel_size=2, stride=2, padding=0, dilation=1, ceil_mode=False)\n",
       "    (5): Conv2d(64, 128, kernel_size=(3, 3), stride=(1, 1), padding=(1, 1))\n",
       "    (6): ReLU(inplace=True)\n",
       "    (7): Conv2d(128, 128, kernel_size=(3, 3), stride=(1, 1), padding=(1, 1))\n",
       "    (8): ReLU(inplace=True)\n",
       "    (9): MaxPool2d(kernel_size=2, stride=2, padding=0, dilation=1, ceil_mode=False)\n",
       "    (10): Conv2d(128, 256, kernel_size=(3, 3), stride=(1, 1), padding=(1, 1))\n",
       "    (11): ReLU(inplace=True)\n",
       "    (12): Conv2d(256, 256, kernel_size=(3, 3), stride=(1, 1), padding=(1, 1))\n",
       "    (13): ReLU(inplace=True)\n",
       "    (14): Conv2d(256, 256, kernel_size=(3, 3), stride=(1, 1), padding=(1, 1))\n",
       "    (15): ReLU(inplace=True)\n",
       "    (16): Conv2d(256, 256, kernel_size=(3, 3), stride=(1, 1), padding=(1, 1))\n",
       "    (17): ReLU(inplace=True)\n",
       "    (18): MaxPool2d(kernel_size=2, stride=2, padding=0, dilation=1, ceil_mode=False)\n",
       "    (19): Conv2d(256, 512, kernel_size=(3, 3), stride=(1, 1), padding=(1, 1))\n",
       "    (20): ReLU(inplace=True)\n",
       "    (21): Conv2d(512, 512, kernel_size=(3, 3), stride=(1, 1), padding=(1, 1))\n",
       "    (22): ReLU(inplace=True)\n",
       "    (23): Conv2d(512, 512, kernel_size=(3, 3), stride=(1, 1), padding=(1, 1))\n",
       "    (24): ReLU(inplace=True)\n",
       "    (25): Conv2d(512, 512, kernel_size=(3, 3), stride=(1, 1), padding=(1, 1))\n",
       "    (26): ReLU(inplace=True)\n",
       "    (27): MaxPool2d(kernel_size=2, stride=2, padding=0, dilation=1, ceil_mode=False)\n",
       "    (28): Conv2d(512, 512, kernel_size=(3, 3), stride=(1, 1), padding=(1, 1))\n",
       "    (29): ReLU(inplace=True)\n",
       "    (30): Conv2d(512, 512, kernel_size=(3, 3), stride=(1, 1), padding=(1, 1))\n",
       "    (31): ReLU(inplace=True)\n",
       "    (32): Conv2d(512, 512, kernel_size=(3, 3), stride=(1, 1), padding=(1, 1))\n",
       "    (33): ReLU(inplace=True)\n",
       "    (34): Conv2d(512, 512, kernel_size=(3, 3), stride=(1, 1), padding=(1, 1))\n",
       "    (35): ReLU(inplace=True)\n",
       "    (36): MaxPool2d(kernel_size=2, stride=2, padding=0, dilation=1, ceil_mode=False)\n",
       "  )\n",
       "  (avgpool): AdaptiveAvgPool2d(output_size=(7, 7))\n",
       "  (classifier): Sequential(\n",
       "    (0): Linear(in_features=25088, out_features=4096, bias=True)\n",
       "    (1): ReLU(inplace=True)\n",
       "    (2): Dropout(p=0.5, inplace=False)\n",
       "    (3): Linear(in_features=4096, out_features=4096, bias=True)\n",
       "    (4): ReLU(inplace=True)\n",
       "    (5): Dropout(p=0.5, inplace=False)\n",
       "    (6): Linear(in_features=4096, out_features=1000, bias=True)\n",
       "  )\n",
       ")"
      ]
     },
     "execution_count": 8,
     "metadata": {},
     "output_type": "execute_result"
    }
   ],
   "source": [
    "vgg = models.vgg19(weights = models.VGG19_Weights.DEFAULT)\n",
    "vgg"
   ]
  },
  {
   "cell_type": "code",
   "execution_count": 9,
   "id": "907e2ad3-87fc-44e9-8d1e-36ef1fbca6de",
   "metadata": {},
   "outputs": [],
   "source": [
    "#phi 5, 4 = 4th conv after activation before 5th maxpool -> after 35"
   ]
  },
  {
   "cell_type": "code",
   "execution_count": 10,
   "id": "96de370e-2cd1-4200-885f-204986336722",
   "metadata": {},
   "outputs": [],
   "source": [
    "class VGGLoss(nn.Module):\n",
    "    def __init__(self):\n",
    "        super(VGGLoss, self).__init__()\n",
    "        self.MSELoss = nn.MSELoss()\n",
    "        self.vgg = models.vgg19(weights = models.VGG19_Weights.DEFAULT).features[: 36].eval().to('cuda' if torch.cuda.is_available() else 'cpu')\n",
    "\n",
    "        for param in vgg.parameters():\n",
    "            param.requires_grad = False \n",
    "\n",
    "    def forward(self, gen_img, real_img):\n",
    "        return self.MSELoss(self.vgg(gen_img), self.vgg(real_img))\n",
    "        \n",
    "        "
   ]
  },
  {
   "cell_type": "code",
   "execution_count": 11,
   "id": "b94b99c4-7821-4cc6-953a-8ed7139440c2",
   "metadata": {},
   "outputs": [],
   "source": [
    "device = 'cuda' if torch.cuda.is_available() else 'cpu'\n",
    "batch_size = 16\n",
    "epochs = 10000\n",
    "gen_lr = 1e-4\n",
    "disc_lr = 1e-4\n",
    "high_res = 96\n",
    "low_res = high_res // 4\n",
    "\n",
    "high_res_dir = r'D:\\Codes\\MLDS\\SRGAN\\DIV2K_train_HR\\DIV2K_train_HR'"
   ]
  },
  {
   "cell_type": "code",
   "execution_count": 12,
   "id": "345a239c-1751-4999-8b41-81537525d268",
   "metadata": {},
   "outputs": [],
   "source": [
    "low_res_transform = A.Compose([A.Resize(height = low_res, width = low_res, interpolation = 3),\n",
    "                               A.Normalize(mean = [0.5, 0.5, 0.5], std = [0.5, 0.5, 0.5]),\n",
    "                               A.pytorch.transforms.ToTensorV2()])\n",
    "\n",
    "high_res_transform = A.Compose([A.Normalize(mean = [0.5, 0.5, 0.5], std = [0.5, 0.5, 0.5]),\n",
    "                                A.pytorch.transforms.ToTensorV2()])\n",
    "\n",
    "augmentation = A.Compose([A.RandomCrop(height = high_res, width = high_res)\n",
    "                          ])\n",
    "\n",
    "test_transform = A.Compose([A.Normalize(mean = [0, 0, 0], std = [1, 1, 1]),\n",
    "                            A.pytorch.transforms.ToTensorV2()])"
   ]
  },
  {
   "cell_type": "code",
   "execution_count": 13,
   "id": "9e606de2-7043-45dc-ae49-3360297c81c2",
   "metadata": {},
   "outputs": [],
   "source": [
    "class Data(Dataset):\n",
    "    def __init__(self, high_res_dir, augmentation, low_res_transform, high_res_transform):\n",
    "        self.high_res_dir = high_res_dir\n",
    "        self.augmentation = augmentation\n",
    "        self.low_res_transform = low_res_transform\n",
    "        self.high_res_transform = high_res_transform\n",
    "        self.high_res_images = sorted(os.listdir(high_res_dir))\n",
    "\n",
    "    def __len__(self):\n",
    "        return len(self.high_res_images)\n",
    "\n",
    "    def __getitem__(self, idx):\n",
    "        high_res_image_path = os.path.join(self.high_res_dir, self.high_res_images[idx])\n",
    "        image = np.array(Image.open(high_res_image_path))\n",
    "        image = cv2.cvtColor(image, cv2.COLOR_BGR2RGB)\n",
    "        image = self.augmentation(image = image)['image']\n",
    "        low_res_img = self.low_res_transform(image = image)['image']\n",
    "        high_res_img = self.high_res_transform(image = image)['image']\n",
    "        return low_res_img, high_res_img\n",
    "        "
   ]
  },
  {
   "cell_type": "code",
   "execution_count": 14,
   "id": "68233ba1-8817-4cfc-8155-58b6cf384268",
   "metadata": {},
   "outputs": [
    {
     "name": "stdout",
     "output_type": "stream",
     "text": [
      "torch.Size([16, 3, 24, 24])\n",
      "torch.Size([16, 3, 96, 96])\n"
     ]
    }
   ],
   "source": [
    "def datatest():\n",
    "    dataset = Data(high_res_dir, augmentation, low_res_transform, high_res_transform)\n",
    "    dataloader = DataLoader(dataset, batch_size = batch_size)\n",
    "    for low_res, high_res in dataloader:\n",
    "        print(low_res.shape)\n",
    "        print(high_res.shape)\n",
    "        break\n",
    "datatest()"
   ]
  },
  {
   "cell_type": "code",
   "execution_count": 15,
   "id": "718d4b72-8b11-4840-bd8a-704781bf8276",
   "metadata": {},
   "outputs": [],
   "source": [
    "disc = Discriminator(3, 64).to(device)\n",
    "gen = Generator(3, 64, 16).to(device)\n",
    "\n",
    "dataset = Data(high_res_dir, augmentation, low_res_transform, high_res_transform)\n",
    "loader = DataLoader(dataset, batch_size = batch_size, shuffle = True)\n",
    "\n",
    "gen_optimizer = optim.Adam(gen.parameters(), lr = gen_lr)\n",
    "disc_optimizer = optim.Adam(disc.parameters(), lr = disc_lr)\n",
    "\n",
    "vggloss = VGGLoss()\n",
    "advloss = nn.BCEWithLogitsLoss()\n",
    "\n",
    "test_image_path = 'tiger.png'"
   ]
  },
  {
   "cell_type": "code",
   "execution_count": 16,
   "id": "7b82ec92-967a-412a-85e9-442329423a80",
   "metadata": {},
   "outputs": [],
   "source": [
    "def plot_examples(image_path, gen, test_transform):\n",
    "    gen.eval()\n",
    "    image = Image.open(image_path)\n",
    "    with torch.no_grad():\n",
    "        upscaled_img = gen(test_transform(image=np.asarray(image))[\"image\"].unsqueeze(0).to(device))\n",
    "    save_image(upscaled_img * 0.5 + 0.5, 'test.png')\n",
    "    gen.train()"
   ]
  },
  {
   "cell_type": "code",
   "execution_count": 17,
   "id": "8f3d073a-810f-48ad-b8e2-652c2e1ae9f6",
   "metadata": {},
   "outputs": [],
   "source": [
    "def show_images(image_path, gen, test_transform):\n",
    "    gen.eval()\n",
    "    image = Image.open(image_path)\n",
    "    with torch.no_grad():\n",
    "        upscaled_img = gen(test_transform(image = np.asarray(image))[\"image\"].unsqueeze(0).to(device))\n",
    "        upscaled_img = upscaled_img.squeeze(0).cpu()\n",
    "        upscaled_img = upscaled_img.permute(1, 2, 0).numpy()\n",
    "        upscaled_img = np.clip(upscaled_img, 0, 1)\n",
    "    gen.train()\n",
    "    fig, ax = plt.subplots(1, 2, figsize=(12, 6))\n",
    "    ax[0].imshow(image)\n",
    "    ax[0].set_title(\"Real Image\")\n",
    "    ax[0].axis('off')\n",
    "\n",
    "    ax[1].imshow(upscaled_img)\n",
    "    ax[1].set_title(\"Generated Image\")\n",
    "    ax[1].axis('off')\n",
    "    plt.show()"
   ]
  },
  {
   "cell_type": "code",
   "execution_count": 18,
   "id": "4523b64e-913a-4119-ae19-e9ce9b3b8b59",
   "metadata": {},
   "outputs": [],
   "source": [
    "def train(loader, gen, disc, gen_optimizer, disc_optimizer, vggloss, advloss, device):\n",
    "    for epoch in range(epochs):\n",
    "        for batch_idx, (low_res_img, high_res_img) in enumerate(tqdm(loader)):\n",
    "            low_res_img, high_res_img = low_res_img.to(device), high_res_img.to(device)\n",
    "            #disc training\n",
    "            fake = gen(low_res_img)\n",
    "            disc_real = disc(high_res_img)\n",
    "            disc_fake = disc(fake.detach())\n",
    "            disc_loss_real = advloss(disc_real, torch.ones_like(disc_real) - 0.1 * torch.rand_like(disc_real))\n",
    "\n",
    "            disc_loss_fake = advloss(disc_fake, torch.zeros_like(disc_fake))\n",
    "            disc_loss = disc_loss_fake + disc_loss_real\n",
    "\n",
    "            disc_optimizer.zero_grad()\n",
    "            disc_loss.backward()\n",
    "            disc_optimizer.step()\n",
    "\n",
    "        #train gen\n",
    "            disc_fake = disc(fake)\n",
    "            adv_loss = 1e-3 * advloss(disc_fake, torch.ones_like(disc_fake))\n",
    "            vgg_loss = 0.006 * vggloss(fake, high_res_img)\n",
    "            gen_loss = adv_loss + vgg_loss\n",
    "\n",
    "            gen_optimizer.zero_grad()\n",
    "            gen_loss.backward()\n",
    "            gen_optimizer.step()\n",
    "        print(f'Epoch: {epoch}')\n",
    "        print(f'genloss: {gen_loss} \\t discloss: {disc_loss}')\n",
    "        plot_examples(test_image_path, gen, test_transform)"
   ]
  },
  {
   "cell_type": "code",
   "execution_count": 19,
   "id": "c4e909c7-009c-449b-8ee5-e056760bb92c",
   "metadata": {},
   "outputs": [
    {
     "name": "stderr",
     "output_type": "stream",
     "text": [
      "100%|██████████████████████████████████████████████████████████████████████████████████| 50/50 [01:39<00:00,  1.98s/it]\n"
     ]
    },
    {
     "name": "stdout",
     "output_type": "stream",
     "text": [
      "Epoch: 0\n",
      "genloss: 0.007854166440665722 \t discloss: 0.32232749462127686\n"
     ]
    },
    {
     "name": "stderr",
     "output_type": "stream",
     "text": [
      "C:\\Users\\Lenovo\\AppData\\Local\\Programs\\Python\\Python311\\Lib\\site-packages\\torch\\nn\\modules\\conv.py:456: UserWarning: Plan failed with a cudnnException: CUDNN_BACKEND_EXECUTION_PLAN_DESCRIPTOR: cudnnFinalize Descriptor Failed cudnn_status: CUDNN_STATUS_NOT_SUPPORTED (Triggered internally at ..\\aten\\src\\ATen\\native\\cudnn\\Conv_v8.cpp:919.)\n",
      "  return F.conv2d(input, weight, bias, self.stride,\n",
      "100%|██████████████████████████████████████████████████████████████████████████████████| 50/50 [01:31<00:00,  1.83s/it]\n"
     ]
    },
    {
     "name": "stdout",
     "output_type": "stream",
     "text": [
      "Epoch: 1\n",
      "genloss: 0.005060066934674978 \t discloss: 0.6687721610069275\n"
     ]
    },
    {
     "name": "stderr",
     "output_type": "stream",
     "text": [
      "100%|██████████████████████████████████████████████████████████████████████████████████| 50/50 [01:31<00:00,  1.83s/it]\n"
     ]
    },
    {
     "name": "stdout",
     "output_type": "stream",
     "text": [
      "Epoch: 2\n",
      "genloss: 0.003890642896294594 \t discloss: 0.7465443015098572\n"
     ]
    },
    {
     "ename": "KeyboardInterrupt",
     "evalue": "",
     "output_type": "error",
     "traceback": [
      "\u001b[1;31m---------------------------------------------------------------------------\u001b[0m",
      "\u001b[1;31mKeyboardInterrupt\u001b[0m                         Traceback (most recent call last)",
      "Cell \u001b[1;32mIn[19], line 1\u001b[0m\n\u001b[1;32m----> 1\u001b[0m \u001b[43mtrain\u001b[49m\u001b[43m(\u001b[49m\u001b[43mloader\u001b[49m\u001b[43m,\u001b[49m\u001b[43m \u001b[49m\u001b[43mgen\u001b[49m\u001b[43m,\u001b[49m\u001b[43m \u001b[49m\u001b[43mdisc\u001b[49m\u001b[43m,\u001b[49m\u001b[43m \u001b[49m\u001b[43mgen_optimizer\u001b[49m\u001b[43m,\u001b[49m\u001b[43m \u001b[49m\u001b[43mdisc_optimizer\u001b[49m\u001b[43m,\u001b[49m\u001b[43m \u001b[49m\u001b[43mvggloss\u001b[49m\u001b[43m,\u001b[49m\u001b[43m \u001b[49m\u001b[43madvloss\u001b[49m\u001b[43m,\u001b[49m\u001b[43m \u001b[49m\u001b[43mdevice\u001b[49m\u001b[43m)\u001b[49m\n",
      "Cell \u001b[1;32mIn[18], line 29\u001b[0m, in \u001b[0;36mtrain\u001b[1;34m(loader, gen, disc, gen_optimizer, disc_optimizer, vggloss, advloss, device)\u001b[0m\n\u001b[0;32m     27\u001b[0m \u001b[38;5;28mprint\u001b[39m(\u001b[38;5;124mf\u001b[39m\u001b[38;5;124m'\u001b[39m\u001b[38;5;124mEpoch: \u001b[39m\u001b[38;5;132;01m{\u001b[39;00mepoch\u001b[38;5;132;01m}\u001b[39;00m\u001b[38;5;124m'\u001b[39m)\n\u001b[0;32m     28\u001b[0m \u001b[38;5;28mprint\u001b[39m(\u001b[38;5;124mf\u001b[39m\u001b[38;5;124m'\u001b[39m\u001b[38;5;124mgenloss: \u001b[39m\u001b[38;5;132;01m{\u001b[39;00mgen_loss\u001b[38;5;132;01m}\u001b[39;00m\u001b[38;5;124m \u001b[39m\u001b[38;5;130;01m\\t\u001b[39;00m\u001b[38;5;124m discloss: \u001b[39m\u001b[38;5;132;01m{\u001b[39;00mdisc_loss\u001b[38;5;132;01m}\u001b[39;00m\u001b[38;5;124m'\u001b[39m)\n\u001b[1;32m---> 29\u001b[0m \u001b[43mplot_examples\u001b[49m\u001b[43m(\u001b[49m\u001b[43mtest_image_path\u001b[49m\u001b[43m,\u001b[49m\u001b[43m \u001b[49m\u001b[43mgen\u001b[49m\u001b[43m,\u001b[49m\u001b[43m \u001b[49m\u001b[43mtest_transform\u001b[49m\u001b[43m)\u001b[49m\n",
      "Cell \u001b[1;32mIn[16], line 6\u001b[0m, in \u001b[0;36mplot_examples\u001b[1;34m(image_path, gen, test_transform)\u001b[0m\n\u001b[0;32m      4\u001b[0m \u001b[38;5;28;01mwith\u001b[39;00m torch\u001b[38;5;241m.\u001b[39mno_grad():\n\u001b[0;32m      5\u001b[0m     upscaled_img \u001b[38;5;241m=\u001b[39m gen(test_transform(image\u001b[38;5;241m=\u001b[39mnp\u001b[38;5;241m.\u001b[39masarray(image))[\u001b[38;5;124m\"\u001b[39m\u001b[38;5;124mimage\u001b[39m\u001b[38;5;124m\"\u001b[39m]\u001b[38;5;241m.\u001b[39munsqueeze(\u001b[38;5;241m0\u001b[39m)\u001b[38;5;241m.\u001b[39mto(device))\n\u001b[1;32m----> 6\u001b[0m \u001b[43msave_image\u001b[49m\u001b[43m(\u001b[49m\u001b[43mupscaled_img\u001b[49m\u001b[43m \u001b[49m\u001b[38;5;241;43m*\u001b[39;49m\u001b[43m \u001b[49m\u001b[38;5;241;43m0.5\u001b[39;49m\u001b[43m \u001b[49m\u001b[38;5;241;43m+\u001b[39;49m\u001b[43m \u001b[49m\u001b[38;5;241;43m0.5\u001b[39;49m\u001b[43m,\u001b[49m\u001b[43m \u001b[49m\u001b[38;5;124;43m'\u001b[39;49m\u001b[38;5;124;43mtest.png\u001b[39;49m\u001b[38;5;124;43m'\u001b[39;49m\u001b[43m)\u001b[49m\n\u001b[0;32m      7\u001b[0m gen\u001b[38;5;241m.\u001b[39mtrain()\n",
      "File \u001b[1;32m~\\AppData\\Local\\Programs\\Python\\Python311\\Lib\\site-packages\\torch\\utils\\_contextlib.py:115\u001b[0m, in \u001b[0;36mcontext_decorator.<locals>.decorate_context\u001b[1;34m(*args, **kwargs)\u001b[0m\n\u001b[0;32m    112\u001b[0m \u001b[38;5;129m@functools\u001b[39m\u001b[38;5;241m.\u001b[39mwraps(func)\n\u001b[0;32m    113\u001b[0m \u001b[38;5;28;01mdef\u001b[39;00m \u001b[38;5;21mdecorate_context\u001b[39m(\u001b[38;5;241m*\u001b[39margs, \u001b[38;5;241m*\u001b[39m\u001b[38;5;241m*\u001b[39mkwargs):\n\u001b[0;32m    114\u001b[0m     \u001b[38;5;28;01mwith\u001b[39;00m ctx_factory():\n\u001b[1;32m--> 115\u001b[0m         \u001b[38;5;28;01mreturn\u001b[39;00m \u001b[43mfunc\u001b[49m\u001b[43m(\u001b[49m\u001b[38;5;241;43m*\u001b[39;49m\u001b[43margs\u001b[49m\u001b[43m,\u001b[49m\u001b[43m \u001b[49m\u001b[38;5;241;43m*\u001b[39;49m\u001b[38;5;241;43m*\u001b[39;49m\u001b[43mkwargs\u001b[49m\u001b[43m)\u001b[49m\n",
      "File \u001b[1;32m~\\AppData\\Local\\Programs\\Python\\Python311\\Lib\\site-packages\\torchvision\\utils.py:149\u001b[0m, in \u001b[0;36msave_image\u001b[1;34m(tensor, fp, format, **kwargs)\u001b[0m\n\u001b[0;32m    147\u001b[0m grid \u001b[38;5;241m=\u001b[39m make_grid(tensor, \u001b[38;5;241m*\u001b[39m\u001b[38;5;241m*\u001b[39mkwargs)\n\u001b[0;32m    148\u001b[0m \u001b[38;5;66;03m# Add 0.5 after unnormalizing to [0, 255] to round to the nearest integer\u001b[39;00m\n\u001b[1;32m--> 149\u001b[0m ndarr \u001b[38;5;241m=\u001b[39m \u001b[43mgrid\u001b[49m\u001b[38;5;241;43m.\u001b[39;49m\u001b[43mmul\u001b[49m\u001b[43m(\u001b[49m\u001b[38;5;241;43m255\u001b[39;49m\u001b[43m)\u001b[49m\u001b[38;5;241;43m.\u001b[39;49m\u001b[43madd_\u001b[49m\u001b[43m(\u001b[49m\u001b[38;5;241;43m0.5\u001b[39;49m\u001b[43m)\u001b[49m\u001b[38;5;241;43m.\u001b[39;49m\u001b[43mclamp_\u001b[49m\u001b[43m(\u001b[49m\u001b[38;5;241;43m0\u001b[39;49m\u001b[43m,\u001b[49m\u001b[43m \u001b[49m\u001b[38;5;241;43m255\u001b[39;49m\u001b[43m)\u001b[49m\u001b[38;5;241;43m.\u001b[39;49m\u001b[43mpermute\u001b[49m\u001b[43m(\u001b[49m\u001b[38;5;241;43m1\u001b[39;49m\u001b[43m,\u001b[49m\u001b[43m \u001b[49m\u001b[38;5;241;43m2\u001b[39;49m\u001b[43m,\u001b[49m\u001b[43m \u001b[49m\u001b[38;5;241;43m0\u001b[39;49m\u001b[43m)\u001b[49m\u001b[38;5;241;43m.\u001b[39;49m\u001b[43mto\u001b[49m\u001b[43m(\u001b[49m\u001b[38;5;124;43m\"\u001b[39;49m\u001b[38;5;124;43mcpu\u001b[39;49m\u001b[38;5;124;43m\"\u001b[39;49m\u001b[43m,\u001b[49m\u001b[43m \u001b[49m\u001b[43mtorch\u001b[49m\u001b[38;5;241;43m.\u001b[39;49m\u001b[43muint8\u001b[49m\u001b[43m)\u001b[49m\u001b[38;5;241m.\u001b[39mnumpy()\n\u001b[0;32m    150\u001b[0m im \u001b[38;5;241m=\u001b[39m Image\u001b[38;5;241m.\u001b[39mfromarray(ndarr)\n\u001b[0;32m    151\u001b[0m im\u001b[38;5;241m.\u001b[39msave(fp, \u001b[38;5;28mformat\u001b[39m\u001b[38;5;241m=\u001b[39m\u001b[38;5;28mformat\u001b[39m)\n",
      "\u001b[1;31mKeyboardInterrupt\u001b[0m: "
     ]
    }
   ],
   "source": [
    "train(loader, gen, disc, gen_optimizer, disc_optimizer, vggloss, advloss, device)"
   ]
  },
  {
   "cell_type": "code",
   "execution_count": null,
   "id": "b5d3f650-549f-46a0-a652-a987c6e08225",
   "metadata": {},
   "outputs": [],
   "source": []
  },
  {
   "cell_type": "code",
   "execution_count": null,
   "id": "a338d282-d7ea-4de2-a059-3b3e875cc21d",
   "metadata": {},
   "outputs": [],
   "source": []
  },
  {
   "cell_type": "code",
   "execution_count": null,
   "id": "249abf52-54f8-461c-a6c3-7bbef4eeac40",
   "metadata": {},
   "outputs": [],
   "source": []
  }
 ],
 "metadata": {
  "kernelspec": {
   "display_name": "Python 3 (ipykernel)",
   "language": "python",
   "name": "python3"
  },
  "language_info": {
   "codemirror_mode": {
    "name": "ipython",
    "version": 3
   },
   "file_extension": ".py",
   "mimetype": "text/x-python",
   "name": "python",
   "nbconvert_exporter": "python",
   "pygments_lexer": "ipython3",
   "version": "3.11.8"
  }
 },
 "nbformat": 4,
 "nbformat_minor": 5
}
